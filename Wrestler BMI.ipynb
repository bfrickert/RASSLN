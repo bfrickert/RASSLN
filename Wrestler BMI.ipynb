{
 "metadata": {
  "name": "",
  "signature": "sha256:7726fc2c47cde1772a42042aedf68844193ed88ac2825f5e72b23461d18d9cd6"
 },
 "nbformat": 3,
 "nbformat_minor": 0,
 "worksheets": [
  {
   "cells": [
    {
     "cell_type": "code",
     "collapsed": false,
     "input": [
      "\n",
      "def bmicalc(weight,height):\n",
      "\n",
      "# Calculate body mass index\n",
      " bmi=weight/pow(height/100,2);\n",
      " return bmi;\n",
      "\n",
      "\n",
      "if __name__ == '__main__':\n",
      "# Mass of body in kg\n",
      " weight=110.0;         \n",
      "# Height of body in cm\n",
      " height=187.0;\n",
      "\n",
      "\n",
      "# Calculate body mass index (BMI)\n",
      " bmi_var1=bmicalc(weight,height);\n",
      "         \n",
      " print bmi_var1"
     ],
     "language": "python",
     "metadata": {},
     "outputs": [
      {
       "output_type": "stream",
       "stream": "stdout",
       "text": [
        "31.4564328405\n"
       ]
      }
     ],
     "prompt_number": 1
    },
    {
     "cell_type": "code",
     "collapsed": false,
     "input": [
      "import pandas as pd\n",
      "df = pd.read_csv('data/stars.tsv', sep='\\t')\n",
      "df['bmi'] = bmicalc(df.weight_kg, df.height_meters * 100)\n",
      "df.head()"
     ],
     "language": "python",
     "metadata": {},
     "outputs": [
      {
       "html": [
        "<div style=\"max-height:1000px;max-width:1500px;overflow:auto;\">\n",
        "<table border=\"1\" class=\"dataframe\">\n",
        "  <thead>\n",
        "    <tr style=\"text-align: right;\">\n",
        "      <th></th>\n",
        "      <th>Name</th>\n",
        "      <th>Finisher</th>\n",
        "      <th>Moves</th>\n",
        "      <th>weight_kg</th>\n",
        "      <th>height_meters</th>\n",
        "      <th>bmi</th>\n",
        "    </tr>\n",
        "  </thead>\n",
        "  <tbody>\n",
        "    <tr>\n",
        "      <th>0</th>\n",
        "      <td>   Adrian Adonis</td>\n",
        "      <td>               DDT, Sleeper Hold </td>\n",
        "      <td>                  Diving Shoulder Block, Knee Drop</td>\n",
        "      <td> 141</td>\n",
        "      <td> 1.80</td>\n",
        "      <td> 43.518519</td>\n",
        "    </tr>\n",
        "    <tr>\n",
        "      <th>1</th>\n",
        "      <td>             Afa</td>\n",
        "      <td>                      Samoan Drop</td>\n",
        "      <td>                                          Headbutt</td>\n",
        "      <td> 148</td>\n",
        "      <td> 1.88</td>\n",
        "      <td> 41.874151</td>\n",
        "    </tr>\n",
        "    <tr>\n",
        "      <th>2</th>\n",
        "      <td>     Akira Maeda</td>\n",
        "      <td>                   Capture Suplex</td>\n",
        "      <td>                              Heel Hook, High Kick</td>\n",
        "      <td> 102</td>\n",
        "      <td> 1.91</td>\n",
        "      <td> 27.959760</td>\n",
        "    </tr>\n",
        "    <tr>\n",
        "      <th>3</th>\n",
        "      <td>     Allen Coage</td>\n",
        "      <td>                        Enzuigiri</td>\n",
        "      <td>                                               NaN</td>\n",
        "      <td> 116</td>\n",
        "      <td> 1.88</td>\n",
        "      <td> 32.820281</td>\n",
        "    </tr>\n",
        "    <tr>\n",
        "      <th>4</th>\n",
        "      <td> Andre the Giant</td>\n",
        "      <td> Elbow Drop, Tombstone Piledriver</td>\n",
        "      <td> Bearhug, Big Splash, Bodyslam, Butterfly Suple...</td>\n",
        "      <td> 227</td>\n",
        "      <td> 2.16</td>\n",
        "      <td> 48.653978</td>\n",
        "    </tr>\n",
        "  </tbody>\n",
        "</table>\n",
        "</div>"
       ],
       "metadata": {},
       "output_type": "pyout",
       "prompt_number": 5,
       "text": [
        "              Name                          Finisher  \\\n",
        "0    Adrian Adonis                DDT, Sleeper Hold    \n",
        "1              Afa                       Samoan Drop   \n",
        "2      Akira Maeda                    Capture Suplex   \n",
        "3      Allen Coage                         Enzuigiri   \n",
        "4  Andre the Giant  Elbow Drop, Tombstone Piledriver   \n",
        "\n",
        "                                               Moves  weight_kg  \\\n",
        "0                   Diving Shoulder Block, Knee Drop        141   \n",
        "1                                           Headbutt        148   \n",
        "2                               Heel Hook, High Kick        102   \n",
        "3                                                NaN        116   \n",
        "4  Bearhug, Big Splash, Bodyslam, Butterfly Suple...        227   \n",
        "\n",
        "   height_meters        bmi  \n",
        "0           1.80  43.518519  \n",
        "1           1.88  41.874151  \n",
        "2           1.91  27.959760  \n",
        "3           1.88  32.820281  \n",
        "4           2.16  48.653978  "
       ]
      }
     ],
     "prompt_number": 5
    },
    {
     "cell_type": "code",
     "collapsed": false,
     "input": [
      "df.to_csv('data/stars_bmi.tsv', '\\t')"
     ],
     "language": "python",
     "metadata": {},
     "outputs": [],
     "prompt_number": 6
    }
   ],
   "metadata": {}
  }
 ]
}