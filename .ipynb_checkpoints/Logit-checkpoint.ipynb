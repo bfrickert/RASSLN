{
 "metadata": {
  "name": "",
  "signature": "sha256:18f669d93310ce3daa1180c6e583246660a212be790e087abdef77982c3df753"
 },
 "nbformat": 3,
 "nbformat_minor": 0,
 "worksheets": [
  {
   "cells": [
    {
     "cell_type": "code",
     "collapsed": false,
     "input": [
      "import numpy as np\n",
      "import pandas as pd\n",
      "import statsmodels.api as sm\n",
      "import matplotlib.pyplot as plt\n",
      "from patsy import dmatrices\n",
      "from sklearn.linear_model import LogisticRegression\n",
      "from sklearn.cross_validation import train_test_split\n",
      "from sklearn import metrics\n",
      "from sklearn.cross_validation import cross_val_score"
     ],
     "language": "python",
     "metadata": {},
     "outputs": [],
     "prompt_number": 1
    },
    {
     "cell_type": "code",
     "collapsed": false,
     "input": [
      "df = pd.read_csv('data/outcomes.tsv', sep='\\t')\n",
      "df.head()\n",
      "df = df.drop(df.columns[0], axis=1)\n",
      "df.head()"
     ],
     "language": "python",
     "metadata": {},
     "outputs": [
      {
       "html": [
        "<div style=\"max-height:1000px;max-width:1500px;overflow:auto;\">\n",
        "<table border=\"1\" class=\"dataframe\">\n",
        "  <thead>\n",
        "    <tr style=\"text-align: right;\">\n",
        "      <th></th>\n",
        "      <th>name</th>\n",
        "      <th>180</th>\n",
        "      <th>abdominal</th>\n",
        "      <th>airplane</th>\n",
        "      <th>and</th>\n",
        "      <th>argentine</th>\n",
        "      <th>arm</th>\n",
        "      <th>armbar</th>\n",
        "      <th>armlock</th>\n",
        "      <th>arrow</th>\n",
        "      <th>...</th>\n",
        "      <th>tombstone</th>\n",
        "      <th>top</th>\n",
        "      <th>tope</th>\n",
        "      <th>tornado</th>\n",
        "      <th>twist</th>\n",
        "      <th>underhook</th>\n",
        "      <th>uppercut</th>\n",
        "      <th>valley</th>\n",
        "      <th>vertical</th>\n",
        "      <th>outcome</th>\n",
        "    </tr>\n",
        "  </thead>\n",
        "  <tbody>\n",
        "    <tr>\n",
        "      <th>0</th>\n",
        "      <td>      Andre the Giant</td>\n",
        "      <td> 0</td>\n",
        "      <td> 0</td>\n",
        "      <td> 0</td>\n",
        "      <td> 0</td>\n",
        "      <td> 0</td>\n",
        "      <td> 0</td>\n",
        "      <td> 0</td>\n",
        "      <td> 0</td>\n",
        "      <td> 0</td>\n",
        "      <td>...</td>\n",
        "      <td> 1</td>\n",
        "      <td> 0</td>\n",
        "      <td> 0</td>\n",
        "      <td> 0</td>\n",
        "      <td> 0</td>\n",
        "      <td> 0</td>\n",
        "      <td> 0</td>\n",
        "      <td> 0</td>\n",
        "      <td> 0</td>\n",
        "      <td> 0</td>\n",
        "    </tr>\n",
        "    <tr>\n",
        "      <th>1</th>\n",
        "      <td> Bad News Allen Coage</td>\n",
        "      <td> 0</td>\n",
        "      <td> 0</td>\n",
        "      <td> 0</td>\n",
        "      <td> 0</td>\n",
        "      <td> 0</td>\n",
        "      <td> 0</td>\n",
        "      <td> 0</td>\n",
        "      <td> 0</td>\n",
        "      <td> 0</td>\n",
        "      <td>...</td>\n",
        "      <td> 0</td>\n",
        "      <td> 0</td>\n",
        "      <td> 0</td>\n",
        "      <td> 0</td>\n",
        "      <td> 0</td>\n",
        "      <td> 0</td>\n",
        "      <td> 0</td>\n",
        "      <td> 0</td>\n",
        "      <td> 0</td>\n",
        "      <td> 0</td>\n",
        "    </tr>\n",
        "    <tr>\n",
        "      <th>2</th>\n",
        "      <td>         Bob Backlund</td>\n",
        "      <td> 0</td>\n",
        "      <td> 0</td>\n",
        "      <td> 0</td>\n",
        "      <td> 0</td>\n",
        "      <td> 0</td>\n",
        "      <td> 0</td>\n",
        "      <td> 0</td>\n",
        "      <td> 0</td>\n",
        "      <td> 0</td>\n",
        "      <td>...</td>\n",
        "      <td> 0</td>\n",
        "      <td> 0</td>\n",
        "      <td> 0</td>\n",
        "      <td> 0</td>\n",
        "      <td> 0</td>\n",
        "      <td> 0</td>\n",
        "      <td> 0</td>\n",
        "      <td> 0</td>\n",
        "      <td> 0</td>\n",
        "      <td> 0</td>\n",
        "    </tr>\n",
        "    <tr>\n",
        "      <th>3</th>\n",
        "      <td>          Cowboy Lang</td>\n",
        "      <td> 0</td>\n",
        "      <td> 0</td>\n",
        "      <td> 0</td>\n",
        "      <td> 0</td>\n",
        "      <td> 0</td>\n",
        "      <td> 0</td>\n",
        "      <td> 0</td>\n",
        "      <td> 0</td>\n",
        "      <td> 0</td>\n",
        "      <td>...</td>\n",
        "      <td> 0</td>\n",
        "      <td> 0</td>\n",
        "      <td> 0</td>\n",
        "      <td> 0</td>\n",
        "      <td> 0</td>\n",
        "      <td> 0</td>\n",
        "      <td> 0</td>\n",
        "      <td> 0</td>\n",
        "      <td> 0</td>\n",
        "      <td> 0</td>\n",
        "    </tr>\n",
        "    <tr>\n",
        "      <th>4</th>\n",
        "      <td>          Harley Race</td>\n",
        "      <td> 0</td>\n",
        "      <td> 0</td>\n",
        "      <td> 0</td>\n",
        "      <td> 0</td>\n",
        "      <td> 0</td>\n",
        "      <td> 0</td>\n",
        "      <td> 0</td>\n",
        "      <td> 0</td>\n",
        "      <td> 0</td>\n",
        "      <td>...</td>\n",
        "      <td> 0</td>\n",
        "      <td> 0</td>\n",
        "      <td> 0</td>\n",
        "      <td> 0</td>\n",
        "      <td> 0</td>\n",
        "      <td> 0</td>\n",
        "      <td> 0</td>\n",
        "      <td> 0</td>\n",
        "      <td> 0</td>\n",
        "      <td> 0</td>\n",
        "    </tr>\n",
        "  </tbody>\n",
        "</table>\n",
        "<p>5 rows \u00d7 196 columns</p>\n",
        "</div>"
       ],
       "metadata": {},
       "output_type": "pyout",
       "prompt_number": 2,
       "text": [
        "                   name  180  abdominal  airplane  and  argentine  arm  \\\n",
        "0       Andre the Giant    0          0         0    0          0    0   \n",
        "1  Bad News Allen Coage    0          0         0    0          0    0   \n",
        "2          Bob Backlund    0          0         0    0          0    0   \n",
        "3           Cowboy Lang    0          0         0    0          0    0   \n",
        "4           Harley Race    0          0         0    0          0    0   \n",
        "\n",
        "   armbar  armlock  arrow  ...    tombstone  top  tope  tornado  twist  \\\n",
        "0       0        0      0  ...            1    0     0        0      0   \n",
        "1       0        0      0  ...            0    0     0        0      0   \n",
        "2       0        0      0  ...            0    0     0        0      0   \n",
        "3       0        0      0  ...            0    0     0        0      0   \n",
        "4       0        0      0  ...            0    0     0        0      0   \n",
        "\n",
        "   underhook  uppercut  valley  vertical  outcome  \n",
        "0          0         0       0         0        0  \n",
        "1          0         0       0         0        0  \n",
        "2          0         0       0         0        0  \n",
        "3          0         0       0         0        0  \n",
        "4          0         0       0         0        0  \n",
        "\n",
        "[5 rows x 196 columns]"
       ]
      }
     ],
     "prompt_number": 2
    },
    {
     "cell_type": "code",
     "collapsed": false,
     "input": [
      "df.suplex.hist()\n",
      "plt.title('Histogram of Suplex Utilization')\n",
      "plt.xlabel('# of Suplexes in Arsenal')\n",
      "plt.ylabel('Frequency')"
     ],
     "language": "python",
     "metadata": {},
     "outputs": [
      {
       "metadata": {},
       "output_type": "pyout",
       "prompt_number": 3,
       "text": [
        "<matplotlib.text.Text at 0xa9d6f50>"
       ]
      },
      {
       "metadata": {},
       "output_type": "display_data",
       "png": "[encoded data removed]",
       "text": [
        "<matplotlib.figure.Figure at 0xa82f350>"
       ]
      }
     ],
     "prompt_number": 3
    },
    {
     "cell_type": "code",
     "collapsed": false,
     "input": [
      "df.outcome.hist()\n",
      "plt.title('Histogram of Sleeper Utilization')\n",
      "plt.xlabel('# of Sleeper Moves in Arsenal')\n",
      "plt.ylabel('Frequency')"
     ],
     "language": "python",
     "metadata": {},
     "outputs": [
      {
       "metadata": {},
       "output_type": "pyout",
       "prompt_number": 4,
       "text": [
        "<matplotlib.text.Text at 0xa954870>"
       ]
      },
      {
       "metadata": {},
       "output_type": "display_data",
       "png": "[encoded data removed]",
       "text": [
        "<matplotlib.figure.Figure at 0xa82f230>"
       ]
      }
     ],
     "prompt_number": 4
    },
    {
     "cell_type": "code",
     "collapsed": false,
     "input": [
      "pd.crosstab(df.suplex, df.outcome.astype(bool)).plot(kind='bar')\n",
      "plt.title('# of Suplexes in Wrestler\\'s Arsenal Distributed by Outcome')\n",
      "plt.xlabel('# of Suplexes')\n",
      "plt.ylabel('Frequency')"
     ],
     "language": "python",
     "metadata": {},
     "outputs": [
      {
       "metadata": {},
       "output_type": "pyout",
       "prompt_number": 5,
       "text": [
        "<matplotlib.text.Text at 0x10b2f4b0>"
       ]
      },
      {
       "metadata": {},
       "output_type": "display_data",
       "png": "[encoded data removed]",
       "text": [
        "<matplotlib.figure.Figure at 0xa967330>"
       ]
      }
     ],
     "prompt_number": 5
    },
    {
     "cell_type": "code",
     "collapsed": false,
     "input": [
      "train_cols = df.columns[1:-1]\n",
      "train_cols[-5:]"
     ],
     "language": "python",
     "metadata": {},
     "outputs": [
      {
       "metadata": {},
       "output_type": "pyout",
       "prompt_number": 6,
       "text": [
        "Index([u'twist', u'underhook', u'uppercut', u'valley', u'vertical'], dtype='object')"
       ]
      }
     ],
     "prompt_number": 6
    },
    {
     "cell_type": "code",
     "collapsed": false,
     "input": [
      "train_cols = df.columns[1:-1]\n",
      "\n",
      "\n",
      "print train_cols\n",
      "\n",
      "print df.shape\n",
      "\n",
      "logit = sm.Logit(df['outcome'], df[train_cols])\n",
      "\n",
      "print np.linalg.matrix_rank(df[train_cols].values)\n",
      "\n",
      "#result = logit.fit()\n",
      "\n",
      "print 'This is a singular matrix because the rank of the matrix is smaller than the smallest dimension of the matrix'"
     ],
     "language": "python",
     "metadata": {},
     "outputs": [
      {
       "output_type": "stream",
       "stream": "stdout",
       "text": [
        "Index([u'180', u'abdominal', u'airplane', u'and', u'argentine', u'arm', u'armbar', u'armlock', u'arrow', u'asian', u'atomic', u'avalanche', u'axe', u'axhandle', u'back', u'backbreaker', u'backdrop', u'bearhug', u'belly', u'big', u'bionic', u'block', u'blow', u'body', u'bodyblock', u'bodybreaker', u'bodypress', u'bodyslam', u'boot', u'boston', u'bow', u'brainbuster', u'bridging', u'bulldog', u'buster', u'butterfly', u'camel', u'canadian', u'capture', u'carry', u'chest', u'chickenwing', u'choke', u'chokehold', u'chokeslam', u'chop', u'chops', u'claw', u'clawhold', u'clutch', u'cobra', u'combination', u'corkscrew', u'crab', u'cradle', u'crooked', u'crossbody', u'crossface', u'ddt', u'death', u'deathlock', u'diving', u'double', u'dragon', u'driver', u'drop', u'dropkick', u'dropsault', u'elbow', u'elbowsmash', u'elevated', u'enzuigiri', u'european', u'eye', u'facelock', u'figure', u'fireman', u'fisherman', u'fist', u'flip', u'forearm', u'four', u'front', u'full', u'german', u'gorilla', u'guillotine', u'gutbuster', u'gutwrench', u'half', u'hammerlock', u'handle', u'hanging', u'head', u'headbutt', u'heart', u'heel', u'high', u'hold', u'hook', ...], dtype='object')\n"
       ]
      },
      {
       "metadata": {},
       "output_type": "pyout",
       "prompt_number": 14,
       "text": [
        "95"
       ]
      }
     ],
     "prompt_number": 14
    }
   ],
   "metadata": {}
  }
 ]
}