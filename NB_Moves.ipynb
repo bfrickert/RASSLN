{
 "metadata": {
  "name": "",
  "signature": "sha256:8223bfed9bbbf4ce692d613f84ae65df6741cb3fa09bc337d2994356dba38f39"
 },
 "nbformat": 3,
 "nbformat_minor": 0,
 "worksheets": [
  {
   "cells": [
    {
     "cell_type": "code",
     "collapsed": false,
     "input": [
      "import pandas as pd\n",
      "\n",
      "lose_moves = []\n",
      "win_moves = []\n",
      "rassln = pd.read_csv(\"data/rassln.tsv\", sep='\\t')\n",
      "win_moves.append([rassln.winner_finisher, rassln.winner_moves])\n",
      "lose_moves.append([rassln.loser_finisher, rassln.loser_moves])"
     ],
     "language": "python",
     "metadata": {},
     "outputs": [],
     "prompt_number": 1
    },
    {
     "cell_type": "code",
     "collapsed": false,
     "input": [
      "clean_rassln = rassln['winner_finisher'].fillna('') + ', ' + rassln['winner_moves'].fillna('')\n",
      "clean_loss = rassln['loser_finisher'].fillna('') + ', ' + rassln['loser_moves'].fillna('')\n",
      "win_loss = list(clean_rassln.values) + list(clean_loss.values)"
     ],
     "language": "python",
     "metadata": {},
     "outputs": [],
     "prompt_number": 2
    },
    {
     "cell_type": "code",
     "collapsed": false,
     "input": [
      "moves = [move.strip() if move != '' else move for move in win_loss[0].split(',')]\n",
      "moves"
     ],
     "language": "python",
     "metadata": {},
     "outputs": [
      {
       "metadata": {},
       "output_type": "pyout",
       "prompt_number": 21,
       "text": [
        "['Elbow Drop',\n",
        " 'Tombstone Piledriver',\n",
        " 'Bearhug',\n",
        " 'Big Splash',\n",
        " 'Bodyslam',\n",
        " 'Butterfly Suplex',\n",
        " 'Headbutt']"
       ]
      }
     ],
     "prompt_number": 21
    },
    {
     "cell_type": "code",
     "collapsed": false,
     "input": [
      "# convert text into a matrix of token counts\n",
      "from sklearn.feature_extraction.text import CountVectorizer\n",
      "vect = CountVectorizer(decode_error=\"ignore\")\n",
      "vect.fit(win_loss)\n",
      "train = vect.transform(win_loss)\n",
      "train"
     ],
     "language": "python",
     "metadata": {},
     "outputs": [
      {
       "metadata": {},
       "output_type": "pyout",
       "prompt_number": 22,
       "text": [
        "<1198x194 sparse matrix of type '<type 'numpy.int64'>'\n",
        "\twith 6170 stored elements in Compressed Sparse Row format>"
       ]
      }
     ],
     "prompt_number": 22
    },
    {
     "cell_type": "code",
     "collapsed": false,
     "input": [
      "rassln_counts = clean_rassln.value_counts()\n",
      "loss_counts = clean_loss.value_counts()\n",
      "rassln_counts[:10].plot(kind='barh', rot=0)\n",
      "loss_counts[:10].plot(kind='barh', rot=0)"
     ],
     "language": "python",
     "metadata": {},
     "outputs": [
      {
       "metadata": {},
       "output_type": "pyout",
       "prompt_number": 4,
       "text": [
        "<matplotlib.axes.AxesSubplot at 0xa0b0ef0>"
       ]
      },
      {
       "metadata": {},
       "output_type": "display_data",
       "png": "[encoded data removed]",
       "text": [
        "<matplotlib.figure.Figure at 0xa0b0e10>"
       ]
      }
     ],
     "prompt_number": 4
    },
    {
     "cell_type": "code",
     "collapsed": false,
     "input": [
      "train_arr = train.toarray()\n",
      "print train_arr.shape\n",
      "sum(train_arr[88])\n",
      "train_arr[:10]"
     ],
     "language": "python",
     "metadata": {},
     "outputs": [
      {
       "output_type": "stream",
       "stream": "stdout",
       "text": [
        "(1198, 194)\n"
       ]
      },
      {
       "metadata": {},
       "output_type": "pyout",
       "prompt_number": 23,
       "text": [
        "array([[0, 0, 0, ..., 0, 0, 0],\n",
        "       [0, 0, 0, ..., 0, 0, 0],\n",
        "       [0, 0, 0, ..., 0, 0, 0],\n",
        "       ..., \n",
        "       [0, 0, 0, ..., 0, 0, 0],\n",
        "       [0, 0, 0, ..., 0, 0, 0],\n",
        "       [0, 0, 0, ..., 0, 0, 0]], dtype=int64)"
       ]
      }
     ],
     "prompt_number": 23
    },
    {
     "cell_type": "code",
     "collapsed": false,
     "input": [
      "train_features = vect.get_feature_names()\n",
      "print len(train_features)\n",
      "train_features[88]"
     ],
     "language": "python",
     "metadata": {},
     "outputs": [
      {
       "output_type": "stream",
       "stream": "stdout",
       "text": [
        "194\n"
       ]
      },
      {
       "metadata": {},
       "output_type": "pyout",
       "prompt_number": 37,
       "text": [
        "u'gutwrench'"
       ]
      }
     ],
     "prompt_number": 37
    },
    {
     "cell_type": "code",
     "collapsed": false,
     "input": [
      "import numpy as np\n",
      "tokens_per_move = np.sum(train_arr, axis=1)    # sum of each row\n",
      "count_per_token = np.sum(train_arr, axis=0) \n",
      "\n",
      "print np.max(count_per_token)\n",
      "print np.argmax(count_per_token)\n",
      "print count_per_token[np.argmax(count_per_token)]\n",
      "print train_features[np.argmax(count_per_token)]"
     ],
     "language": "python",
     "metadata": {},
     "outputs": [
      {
       "output_type": "stream",
       "stream": "stdout",
       "text": [
        "460\n",
        "65\n",
        "460\n",
        "drop\n"
       ]
      }
     ],
     "prompt_number": 38
    },
    {
     "cell_type": "code",
     "collapsed": false,
     "input": [
      "train_label = [0]*len(clean_loss.values) + [1]*len(clean_rassln.values)\n",
      "train_label_arr = np.array(train_label)\n",
      "train_label_arr"
     ],
     "language": "python",
     "metadata": {},
     "outputs": [
      {
       "metadata": {},
       "output_type": "pyout",
       "prompt_number": 39,
       "text": [
        "array([0, 0, 0, ..., 1, 1, 1])"
       ]
      }
     ],
     "prompt_number": 39
    },
    {
     "cell_type": "code",
     "collapsed": false,
     "input": [
      "win_arr = train_arr[train_label_arr==1]\n",
      "win_count_per_token = np.sum(win_arr, axis=0) + 1\n",
      "win_token_rate = win_count_per_token.astype(float)/win_arr.shape[0]\n",
      "del(win_arr)"
     ],
     "language": "python",
     "metadata": {},
     "outputs": [],
     "prompt_number": 40
    },
    {
     "cell_type": "code",
     "collapsed": false,
     "input": [
      "loss_arr = train_arr[train_label_arr==0]\n",
      "loss_count_per_token = np.sum(loss_arr, axis=0) + 1\n",
      "loss_token_rate = loss_count_per_token.astype(float)/loss_arr.shape[0]\n",
      "del(loss_arr)"
     ],
     "language": "python",
     "metadata": {},
     "outputs": [],
     "prompt_number": 43
    },
    {
     "cell_type": "code",
     "collapsed": false,
     "input": [
      "win_to_loss_ratio = win_token_rate/loss_token_rate\n",
      "np.max(win_to_loss_ratio)\n",
      "train_features[np.argmax(win_to_loss_ratio)]"
     ],
     "language": "python",
     "metadata": {},
     "outputs": [
      {
       "metadata": {},
       "output_type": "pyout",
       "prompt_number": 44,
       "text": [
        "u'chokehold'"
       ]
      }
     ],
     "prompt_number": 44
    },
    {
     "cell_type": "code",
     "collapsed": false,
     "input": [
      "loss_to_win_ratio = loss_token_rate/win_token_rate\n",
      "np.max(loss_to_win_ratio)\n",
      "train_features[np.argmax(loss_to_win_ratio)]"
     ],
     "language": "python",
     "metadata": {},
     "outputs": [
      {
       "metadata": {},
       "output_type": "pyout",
       "prompt_number": 45,
       "text": [
        "u'dragon'"
       ]
      }
     ],
     "prompt_number": 45
    },
    {
     "cell_type": "code",
     "collapsed": false,
     "input": [
      "from sklearn.naive_bayes import MultinomialNB\n",
      "from sklearn.cross_validation import cross_val_score\n",
      "print cross_val_score(MultinomialNB(), train, train_label_arr, cv=5,\n",
      "                scoring=\"accuracy\")\n",
      "print cross_val_score(MultinomialNB(), train, train_label_arr, cv=5,\n",
      "                scoring=\"roc_auc\")"
     ],
     "language": "python",
     "metadata": {},
     "outputs": [
      {
       "output_type": "stream",
       "stream": "stdout",
       "text": [
        "[ 0.52916667  0.51666667  0.55        0.57740586  0.57322176]\n",
        "[ 0.62378472  0.5975      0.63506944  0.55227591  0.6644958 ]\n"
       ]
      }
     ],
     "prompt_number": 53
    },
    {
     "cell_type": "code",
     "collapsed": false,
     "input": [
      "from sklearn.cross_validation import train_test_split\n",
      "X_train, X_test, y_train, y_test = train_test_split(train, train_label,\n",
      "                                                    test_size=0.4,\n",
      "                                                    random_state=0)"
     ],
     "language": "python",
     "metadata": {},
     "outputs": [],
     "prompt_number": 47
    },
    {
     "cell_type": "code",
     "collapsed": false,
     "input": [
      "model = MultinomialNB().fit(X_train, y_train)\n",
      "preds = model.predict(X_test)\n",
      "from sklearn import metrics\n",
      "print metrics.accuracy_score(y_test, preds)\n",
      "print metrics.confusion_matrix(y_test, preds)\n",
      "print metrics.classification_report(y_test, preds)"
     ],
     "language": "python",
     "metadata": {},
     "outputs": [
      {
       "output_type": "stream",
       "stream": "stdout",
       "text": [
        "0.504166666667\n",
        "[[146  89]\n",
        " [149  96]]\n",
        "             precision    recall  f1-score   support\n",
        "\n",
        "          0       0.49      0.62      0.55       235\n",
        "          1       0.52      0.39      0.45       245\n",
        "\n",
        "avg / total       0.51      0.50      0.50       480\n",
        "\n"
       ]
      }
     ],
     "prompt_number": 48
    },
    {
     "cell_type": "code",
     "collapsed": false,
     "input": [
      "test = vect.transform([\"crossface suplex\", \"rope chokehold slam\", \"dragon chokehold\"])\n",
      "model = MultinomialNB().fit(train, train_label)\n",
      "model.predict(test)"
     ],
     "language": "python",
     "metadata": {},
     "outputs": [
      {
       "metadata": {},
       "output_type": "pyout",
       "prompt_number": 52,
       "text": [
        "array([0, 1, 1])"
       ]
      }
     ],
     "prompt_number": 52
    },
    {
     "cell_type": "code",
     "collapsed": false,
     "input": [
      "import pandas as pd\n",
      "df = pd.DataFrame(train_arr)\n",
      "df.columns = vect.get_feature_names()\n",
      "df.head()"
     ],
     "language": "python",
     "metadata": {},
     "outputs": [
      {
       "html": [
        "<div style=\"max-height:1000px;max-width:1500px;overflow:auto;\">\n",
        "<table border=\"1\" class=\"dataframe\">\n",
        "  <thead>\n",
        "    <tr style=\"text-align: right;\">\n",
        "      <th></th>\n",
        "      <th>180</th>\n",
        "      <th>abdominal</th>\n",
        "      <th>airplane</th>\n",
        "      <th>and</th>\n",
        "      <th>argentine</th>\n",
        "      <th>arm</th>\n",
        "      <th>armbar</th>\n",
        "      <th>armlock</th>\n",
        "      <th>arrow</th>\n",
        "      <th>asian</th>\n",
        "      <th>...</th>\n",
        "      <th>tomahawk</th>\n",
        "      <th>tombstone</th>\n",
        "      <th>top</th>\n",
        "      <th>tope</th>\n",
        "      <th>tornado</th>\n",
        "      <th>twist</th>\n",
        "      <th>underhook</th>\n",
        "      <th>uppercut</th>\n",
        "      <th>valley</th>\n",
        "      <th>vertical</th>\n",
        "    </tr>\n",
        "  </thead>\n",
        "  <tbody>\n",
        "    <tr>\n",
        "      <th>0</th>\n",
        "      <td> 0</td>\n",
        "      <td> 0</td>\n",
        "      <td> 0</td>\n",
        "      <td> 0</td>\n",
        "      <td> 0</td>\n",
        "      <td> 0</td>\n",
        "      <td> 0</td>\n",
        "      <td> 0</td>\n",
        "      <td> 0</td>\n",
        "      <td> 0</td>\n",
        "      <td>...</td>\n",
        "      <td> 0</td>\n",
        "      <td> 1</td>\n",
        "      <td> 0</td>\n",
        "      <td> 0</td>\n",
        "      <td> 0</td>\n",
        "      <td> 0</td>\n",
        "      <td> 0</td>\n",
        "      <td> 0</td>\n",
        "      <td> 0</td>\n",
        "      <td> 0</td>\n",
        "    </tr>\n",
        "    <tr>\n",
        "      <th>1</th>\n",
        "      <td> 0</td>\n",
        "      <td> 0</td>\n",
        "      <td> 0</td>\n",
        "      <td> 0</td>\n",
        "      <td> 0</td>\n",
        "      <td> 0</td>\n",
        "      <td> 0</td>\n",
        "      <td> 0</td>\n",
        "      <td> 0</td>\n",
        "      <td> 0</td>\n",
        "      <td>...</td>\n",
        "      <td> 0</td>\n",
        "      <td> 0</td>\n",
        "      <td> 0</td>\n",
        "      <td> 0</td>\n",
        "      <td> 0</td>\n",
        "      <td> 0</td>\n",
        "      <td> 0</td>\n",
        "      <td> 0</td>\n",
        "      <td> 0</td>\n",
        "      <td> 0</td>\n",
        "    </tr>\n",
        "    <tr>\n",
        "      <th>2</th>\n",
        "      <td> 0</td>\n",
        "      <td> 0</td>\n",
        "      <td> 0</td>\n",
        "      <td> 0</td>\n",
        "      <td> 0</td>\n",
        "      <td> 0</td>\n",
        "      <td> 0</td>\n",
        "      <td> 0</td>\n",
        "      <td> 0</td>\n",
        "      <td> 0</td>\n",
        "      <td>...</td>\n",
        "      <td> 0</td>\n",
        "      <td> 0</td>\n",
        "      <td> 0</td>\n",
        "      <td> 0</td>\n",
        "      <td> 0</td>\n",
        "      <td> 0</td>\n",
        "      <td> 0</td>\n",
        "      <td> 0</td>\n",
        "      <td> 0</td>\n",
        "      <td> 0</td>\n",
        "    </tr>\n",
        "    <tr>\n",
        "      <th>3</th>\n",
        "      <td> 0</td>\n",
        "      <td> 0</td>\n",
        "      <td> 0</td>\n",
        "      <td> 0</td>\n",
        "      <td> 0</td>\n",
        "      <td> 0</td>\n",
        "      <td> 0</td>\n",
        "      <td> 0</td>\n",
        "      <td> 0</td>\n",
        "      <td> 0</td>\n",
        "      <td>...</td>\n",
        "      <td> 0</td>\n",
        "      <td> 0</td>\n",
        "      <td> 0</td>\n",
        "      <td> 0</td>\n",
        "      <td> 0</td>\n",
        "      <td> 0</td>\n",
        "      <td> 0</td>\n",
        "      <td> 0</td>\n",
        "      <td> 0</td>\n",
        "      <td> 0</td>\n",
        "    </tr>\n",
        "    <tr>\n",
        "      <th>4</th>\n",
        "      <td> 0</td>\n",
        "      <td> 0</td>\n",
        "      <td> 0</td>\n",
        "      <td> 0</td>\n",
        "      <td> 0</td>\n",
        "      <td> 0</td>\n",
        "      <td> 0</td>\n",
        "      <td> 0</td>\n",
        "      <td> 0</td>\n",
        "      <td> 0</td>\n",
        "      <td>...</td>\n",
        "      <td> 0</td>\n",
        "      <td> 0</td>\n",
        "      <td> 0</td>\n",
        "      <td> 0</td>\n",
        "      <td> 0</td>\n",
        "      <td> 0</td>\n",
        "      <td> 0</td>\n",
        "      <td> 0</td>\n",
        "      <td> 0</td>\n",
        "      <td> 0</td>\n",
        "    </tr>\n",
        "  </tbody>\n",
        "</table>\n",
        "<p>5 rows \u00d7 194 columns</p>\n",
        "</div>"
       ],
       "metadata": {},
       "output_type": "pyout",
       "prompt_number": 35,
       "text": [
        "   180  abdominal  airplane  and  argentine  arm  armbar  armlock  arrow  \\\n",
        "0    0          0         0    0          0    0       0        0      0   \n",
        "1    0          0         0    0          0    0       0        0      0   \n",
        "2    0          0         0    0          0    0       0        0      0   \n",
        "3    0          0         0    0          0    0       0        0      0   \n",
        "4    0          0         0    0          0    0       0        0      0   \n",
        "\n",
        "   asian  ...    tomahawk  tombstone  top  tope  tornado  twist  underhook  \\\n",
        "0      0  ...           0          1    0     0        0      0          0   \n",
        "1      0  ...           0          0    0     0        0      0          0   \n",
        "2      0  ...           0          0    0     0        0      0          0   \n",
        "3      0  ...           0          0    0     0        0      0          0   \n",
        "4      0  ...           0          0    0     0        0      0          0   \n",
        "\n",
        "   uppercut  valley  vertical  \n",
        "0         0       0         0  \n",
        "1         0       0         0  \n",
        "2         0       0         0  \n",
        "3         0       0         0  \n",
        "4         0       0         0  \n",
        "\n",
        "[5 rows x 194 columns]"
       ]
      }
     ],
     "prompt_number": 35
    },
    {
     "cell_type": "code",
     "collapsed": false,
     "input": [
      "names = pd.DataFrame(names)\n",
      "names.columns = ['name']\n",
      "outcomes = pd.DataFrame([0]*len(clean_loss.values) + [1]*len(clean_rassln.values))\n",
      "outcomes.columns = ['outcome']\n",
      "mg = names.join(df)\n",
      "mg = mg.join(outcomes)\n",
      "mg.tail()"
     ],
     "language": "python",
     "metadata": {},
     "outputs": [
      {
       "html": [
        "<div style=\"max-height:1000px;max-width:1500px;overflow:auto;\">\n",
        "<table border=\"1\" class=\"dataframe\">\n",
        "  <thead>\n",
        "    <tr style=\"text-align: right;\">\n",
        "      <th></th>\n",
        "      <th>name</th>\n",
        "      <th>180</th>\n",
        "      <th>abdominal</th>\n",
        "      <th>airplane</th>\n",
        "      <th>and</th>\n",
        "      <th>argentine</th>\n",
        "      <th>arm</th>\n",
        "      <th>armbar</th>\n",
        "      <th>armlock</th>\n",
        "      <th>arrow</th>\n",
        "      <th>...</th>\n",
        "      <th>tombstone</th>\n",
        "      <th>top</th>\n",
        "      <th>tope</th>\n",
        "      <th>tornado</th>\n",
        "      <th>twist</th>\n",
        "      <th>underhook</th>\n",
        "      <th>uppercut</th>\n",
        "      <th>valley</th>\n",
        "      <th>vertical</th>\n",
        "      <th>outcome</th>\n",
        "    </tr>\n",
        "  </thead>\n",
        "  <tbody>\n",
        "    <tr>\n",
        "      <th>1193</th>\n",
        "      <td>          Bob Orton Jr.</td>\n",
        "      <td> 0</td>\n",
        "      <td> 0</td>\n",
        "      <td> 0</td>\n",
        "      <td> 0</td>\n",
        "      <td> 0</td>\n",
        "      <td> 0</td>\n",
        "      <td> 0</td>\n",
        "      <td> 0</td>\n",
        "      <td> 0</td>\n",
        "      <td>...</td>\n",
        "      <td> 0</td>\n",
        "      <td> 0</td>\n",
        "      <td> 0</td>\n",
        "      <td> 0</td>\n",
        "      <td> 0</td>\n",
        "      <td> 0</td>\n",
        "      <td> 0</td>\n",
        "      <td> 0</td>\n",
        "      <td> 1</td>\n",
        "      <td> 1</td>\n",
        "    </tr>\n",
        "    <tr>\n",
        "      <th>1194</th>\n",
        "      <td>          David Schultz</td>\n",
        "      <td> 0</td>\n",
        "      <td> 0</td>\n",
        "      <td> 0</td>\n",
        "      <td> 0</td>\n",
        "      <td> 0</td>\n",
        "      <td> 0</td>\n",
        "      <td> 0</td>\n",
        "      <td> 0</td>\n",
        "      <td> 0</td>\n",
        "      <td>...</td>\n",
        "      <td> 0</td>\n",
        "      <td> 0</td>\n",
        "      <td> 0</td>\n",
        "      <td> 0</td>\n",
        "      <td> 0</td>\n",
        "      <td> 0</td>\n",
        "      <td> 0</td>\n",
        "      <td> 0</td>\n",
        "      <td> 0</td>\n",
        "      <td> 1</td>\n",
        "    </tr>\n",
        "    <tr>\n",
        "      <th>1195</th>\n",
        "      <td>               Mr. Fuji</td>\n",
        "      <td> 0</td>\n",
        "      <td> 0</td>\n",
        "      <td> 0</td>\n",
        "      <td> 0</td>\n",
        "      <td> 0</td>\n",
        "      <td> 0</td>\n",
        "      <td> 0</td>\n",
        "      <td> 0</td>\n",
        "      <td> 0</td>\n",
        "      <td>...</td>\n",
        "      <td> 0</td>\n",
        "      <td> 0</td>\n",
        "      <td> 0</td>\n",
        "      <td> 0</td>\n",
        "      <td> 0</td>\n",
        "      <td> 0</td>\n",
        "      <td> 0</td>\n",
        "      <td> 0</td>\n",
        "      <td> 0</td>\n",
        "      <td> 1</td>\n",
        "    </tr>\n",
        "    <tr>\n",
        "      <th>1196</th>\n",
        "      <td>            Jack Brisco</td>\n",
        "      <td> 0</td>\n",
        "      <td> 0</td>\n",
        "      <td> 0</td>\n",
        "      <td> 0</td>\n",
        "      <td> 0</td>\n",
        "      <td> 0</td>\n",
        "      <td> 0</td>\n",
        "      <td> 0</td>\n",
        "      <td> 0</td>\n",
        "      <td>...</td>\n",
        "      <td> 0</td>\n",
        "      <td> 0</td>\n",
        "      <td> 0</td>\n",
        "      <td> 0</td>\n",
        "      <td> 0</td>\n",
        "      <td> 0</td>\n",
        "      <td> 0</td>\n",
        "      <td> 0</td>\n",
        "      <td> 0</td>\n",
        "      <td> 1</td>\n",
        "    </tr>\n",
        "    <tr>\n",
        "      <th>1197</th>\n",
        "      <td> Special Delivery Jones</td>\n",
        "      <td> 0</td>\n",
        "      <td> 0</td>\n",
        "      <td> 0</td>\n",
        "      <td> 0</td>\n",
        "      <td> 0</td>\n",
        "      <td> 0</td>\n",
        "      <td> 0</td>\n",
        "      <td> 0</td>\n",
        "      <td> 0</td>\n",
        "      <td>...</td>\n",
        "      <td> 0</td>\n",
        "      <td> 0</td>\n",
        "      <td> 0</td>\n",
        "      <td> 0</td>\n",
        "      <td> 0</td>\n",
        "      <td> 0</td>\n",
        "      <td> 0</td>\n",
        "      <td> 0</td>\n",
        "      <td> 0</td>\n",
        "      <td> 1</td>\n",
        "    </tr>\n",
        "  </tbody>\n",
        "</table>\n",
        "<p>5 rows \u00d7 196 columns</p>\n",
        "</div>"
       ],
       "metadata": {},
       "output_type": "pyout",
       "prompt_number": 88,
       "text": [
        "                        name  180  abdominal  airplane  and  argentine  arm  \\\n",
        "1193           Bob Orton Jr.    0          0         0    0          0    0   \n",
        "1194           David Schultz    0          0         0    0          0    0   \n",
        "1195                Mr. Fuji    0          0         0    0          0    0   \n",
        "1196             Jack Brisco    0          0         0    0          0    0   \n",
        "1197  Special Delivery Jones    0          0         0    0          0    0   \n",
        "\n",
        "      armbar  armlock  arrow  ...    tombstone  top  tope  tornado  twist  \\\n",
        "1193       0        0      0  ...            0    0     0        0      0   \n",
        "1194       0        0      0  ...            0    0     0        0      0   \n",
        "1195       0        0      0  ...            0    0     0        0      0   \n",
        "1196       0        0      0  ...            0    0     0        0      0   \n",
        "1197       0        0      0  ...            0    0     0        0      0   \n",
        "\n",
        "      underhook  uppercut  valley  vertical  outcome  \n",
        "1193          0         0       0         1        1  \n",
        "1194          0         0       0         0        1  \n",
        "1195          0         0       0         0        1  \n",
        "1196          0         0       0         0        1  \n",
        "1197          0         0       0         0        1  \n",
        "\n",
        "[5 rows x 196 columns]"
       ]
      }
     ],
     "prompt_number": 88
    },
    {
     "cell_type": "code",
     "collapsed": false,
     "input": [
      "mg.to_csv('data/outcomes.tsv', sep='\\t')"
     ],
     "language": "python",
     "metadata": {},
     "outputs": [],
     "prompt_number": 91
    }
   ],
   "metadata": {}
  }
 ]
}